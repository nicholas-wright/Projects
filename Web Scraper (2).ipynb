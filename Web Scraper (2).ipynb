{
 "cells": [
  {
   "cell_type": "code",
   "execution_count": null,
   "metadata": {},
   "outputs": [],
   "source": [
    "# import scrapy, crawler and json\n",
    "import scrapy\n",
    "from scrapy.crawler import CrawlerProcess\n",
    "import json"
   ]
  },
  {
   "cell_type": "code",
   "execution_count": null,
   "metadata": {},
   "outputs": [],
   "source": [
    "# Set up pipeline for JSON file\n",
    "class Pipeline(object):\n",
    "    def open_spider(self, response):\n",
    "        self.file = open('season.jl', '2019')\n",
    "        \n",
    "    def close_spider(self, response):\n",
    "        self.file.close()"
   ]
  },
  {
   "cell_type": "code",
   "execution_count": null,
   "metadata": {},
   "outputs": [],
   "source": [
    "# Set spider\n",
    "class MlsSpider(scrapy.Spider):\n",
    "    name = 'Team Data'\n",
    "    start_urls = ['https://www.mlssoccer.com/stats/team?year=2019&season_type=REG&op=Search&form_build_id=form-fT6I1AO5rTjQ658l5USqDMozv7zc3WNR7WeBuszsI8I&form_id=mp7_stats_hub_build_filter_form'\n",
    "                 ]\n",
    "    def parse(self, response):\n",
    "        for season in response.xpath(\"//table[2]\"):\n",
    "            yield {\n",
    "                'Season Stats': season.xpath(\"//table[2]\").extract_first()\n",
    "            }"
   ]
  },
  {
   "cell_type": "code",
   "execution_count": null,
   "metadata": {},
   "outputs": [],
   "source": [
    "# Start scraper\n",
    "scrape = CrawlerProcess()\n",
    "scrape.crawl(MlsSpider)\n",
    "scrape.start()"
   ]
  },
  {
   "cell_type": "code",
   "execution_count": null,
   "metadata": {},
   "outputs": [],
   "source": [
    "data = 'Team Data.json'\n",
    "data.head()\n",
    "data.to_csv('2019 Stats(Team).csv')"
   ]
  },
  {
   "cell_type": "markdown",
   "metadata": {},
   "source": [
    " Extra Season links - Add callback function to automate leads\n",
    "  'https://www.mlssoccer.com/stats/team?year=2018&season_type=REG&op=Search&form_build_id=form-fT6I1AO5rTjQ658l5USqDMozv7zc3WNR7WeBuszsI8I&form_id=mp7_stats_hub_build_filter_form',\n",
    "   'https://www.mlssoccer.com/stats/team?year=2017&season_type=REG&op=Search&form_build_id=form-fT6I1AO5rTjQ658l5USqDMozv7zc3WNR7WeBuszsI8I&form_id=mp7_stats_hub_build_filter_form',\n",
    "   'https://www.mlssoccer.com/stats/team?year=2016&season_type=REG&op=Search&form_build_id=form-fT6I1AO5rTjQ658l5USqDMozv7zc3WNR7WeBuszsI8I&form_id=mp7_stats_hub_build_filter_form'\n",
    "   'https://www.mlssoccer.com/stats/team?year=2015&season_type=REG&op=Search&form_build_id=form-fT6I1AO5rTjQ658l5USqDMozv7zc3WNR7WeBuszsI8I&form_id=mp7_stats_hub_build_filter_form\n",
    "   'https://www.mlssoccer.com/stats/team?year=2014&season_type=REG&op=Search&form_build_id=form-fT6I1AO5rTjQ658l5USqDMozv7zc3WNR7WeBuszsI8I&form_id=mp7_stats_hub_build_filter_form'\n",
    "\n",
    "Defining pipeline for use in jupyter notebook\n",
    "\n",
    "next_page = response.xpath('') \n",
    "    class Pipeline(object):\n",
    "    def open_spider(self, response):\n",
    "        self.file = open('season.jl', '2019')\n",
    "    def close_spider(self, response):\n",
    "        self.file.close()\n",
    "    def process_item(self, item, response):\n",
    "        line = json.dumps(dict(item))\n",
    "        self.file.write(line)\n",
    "        return item\n",
    "    \n",
    "    custom_settings = {\n",
    "        'ITEM_PIPELINES': {'item.Pipeline'}, \n",
    "        'FEED_FORMAT':'json',                                 \n",
    "        'FEED_URI': 'season.json'                        \n",
    "    }"
   ]
  }
 ],
 "metadata": {
  "kernelspec": {
   "display_name": "Python 3",
   "language": "python",
   "name": "python3"
  },
  "language_info": {
   "codemirror_mode": {
    "name": "ipython",
    "version": 3
   },
   "file_extension": ".py",
   "mimetype": "text/x-python",
   "name": "python",
   "nbconvert_exporter": "python",
   "pygments_lexer": "ipython3",
   "version": "3.7.4"
  }
 },
 "nbformat": 4,
 "nbformat_minor": 2
}
