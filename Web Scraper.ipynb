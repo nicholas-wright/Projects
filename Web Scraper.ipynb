{
 "cells": [
  {
   "cell_type": "code",
   "execution_count": 1,
   "metadata": {},
   "outputs": [],
   "source": [
    "# import scrapy, crawler and json\n",
    "import scrapy\n",
    "from scrapy.crawler import CrawlerProcess\n",
    "import json"
   ]
  },
  {
   "cell_type": "code",
   "execution_count": 2,
   "metadata": {},
   "outputs": [],
   "source": [
    "# Set up pipeline for JSON file\n",
    "class Pipeline(object):\n",
    "    def open_spider(self, response):\n",
    "        self.file = open('season.jl', '2019')\n",
    "        \n",
    "    def close_spider(self, response):\n",
    "        self.file.close()"
   ]
  },
  {
   "cell_type": "code",
   "execution_count": 3,
   "metadata": {},
   "outputs": [],
   "source": [
    "# Set spider\n",
    "class MlsSpider(scrapy.Spider):\n",
    "    name = 'Team Data'\n",
    "    start_urls = ['https://www.mlssoccer.com/stats/team?year=2019&season_type=REG&op=Search&form_build_id=form-fT6I1AO5rTjQ658l5USqDMozv7zc3WNR7WeBuszsI8I&form_id=mp7_stats_hub_build_filter_form'\n",
    "                 ]\n",
    "    def parse(self, response):\n",
    "        for season in response.xpath(\"//table[2]\"):\n",
    "            yield {\n",
    "                'Season Stats': season.xpath(\"//table[2]\").extract_first()\n",
    "            }"
   ]
  },
  {
   "cell_type": "code",
   "execution_count": 4,
   "metadata": {},
   "outputs": [
    {
     "name": "stderr",
     "output_type": "stream",
     "text": [
      "2020-01-17 15:16:47 [scrapy.utils.log] INFO: Scrapy 1.6.0 started (bot: scrapybot)\n",
      "2020-01-17 15:16:47 [scrapy.utils.log] INFO: Versions: lxml 4.4.1.0, libxml2 2.9.9, cssselect 1.1.0, parsel 1.5.2, w3lib 1.21.0, Twisted 19.10.0, Python 3.7.4 (default, Aug 13 2019, 15:17:50) - [Clang 4.0.1 (tags/RELEASE_401/final)], pyOpenSSL 19.0.0 (OpenSSL 1.1.1d  10 Sep 2019), cryptography 2.7, Platform Darwin-16.7.0-x86_64-i386-64bit\n",
      "2020-01-17 15:16:47 [scrapy.crawler] INFO: Overridden settings: {}\n",
      "2020-01-17 15:16:48 [scrapy.extensions.telnet] INFO: Telnet Password: f7204de889b09e57\n",
      "2020-01-17 15:16:48 [scrapy.middleware] INFO: Enabled extensions:\n",
      "['scrapy.extensions.corestats.CoreStats',\n",
      " 'scrapy.extensions.telnet.TelnetConsole',\n",
      " 'scrapy.extensions.memusage.MemoryUsage',\n",
      " 'scrapy.extensions.logstats.LogStats']\n",
      "2020-01-17 15:16:48 [scrapy.middleware] INFO: Enabled downloader middlewares:\n",
      "['scrapy.downloadermiddlewares.httpauth.HttpAuthMiddleware',\n",
      " 'scrapy.downloadermiddlewares.downloadtimeout.DownloadTimeoutMiddleware',\n",
      " 'scrapy.downloadermiddlewares.defaultheaders.DefaultHeadersMiddleware',\n",
      " 'scrapy.downloadermiddlewares.useragent.UserAgentMiddleware',\n",
      " 'scrapy.downloadermiddlewares.retry.RetryMiddleware',\n",
      " 'scrapy.downloadermiddlewares.redirect.MetaRefreshMiddleware',\n",
      " 'scrapy.downloadermiddlewares.httpcompression.HttpCompressionMiddleware',\n",
      " 'scrapy.downloadermiddlewares.redirect.RedirectMiddleware',\n",
      " 'scrapy.downloadermiddlewares.cookies.CookiesMiddleware',\n",
      " 'scrapy.downloadermiddlewares.httpproxy.HttpProxyMiddleware',\n",
      " 'scrapy.downloadermiddlewares.stats.DownloaderStats']\n",
      "2020-01-17 15:16:48 [scrapy.middleware] INFO: Enabled spider middlewares:\n",
      "['scrapy.spidermiddlewares.httperror.HttpErrorMiddleware',\n",
      " 'scrapy.spidermiddlewares.offsite.OffsiteMiddleware',\n",
      " 'scrapy.spidermiddlewares.referer.RefererMiddleware',\n",
      " 'scrapy.spidermiddlewares.urllength.UrlLengthMiddleware',\n",
      " 'scrapy.spidermiddlewares.depth.DepthMiddleware']\n",
      "2020-01-17 15:16:48 [scrapy.middleware] INFO: Enabled item pipelines:\n",
      "[]\n",
      "2020-01-17 15:16:48 [scrapy.core.engine] INFO: Spider opened\n",
      "2020-01-17 15:16:48 [scrapy.extensions.logstats] INFO: Crawled 0 pages (at 0 pages/min), scraped 0 items (at 0 items/min)\n",
      "2020-01-17 15:16:48 [scrapy.extensions.telnet] INFO: Telnet console listening on 127.0.0.1:6023\n",
      "2020-01-17 15:16:50 [scrapy.core.engine] DEBUG: Crawled (200) <GET https://www.mlssoccer.com/stats/team?year=2019&season_type=REG&op=Search&form_build_id=form-fT6I1AO5rTjQ658l5USqDMozv7zc3WNR7WeBuszsI8I&form_id=mp7_stats_hub_build_filter_form> (referer: None)\n",
      "2020-01-17 15:16:51 [scrapy.core.engine] INFO: Closing spider (finished)\n",
      "2020-01-17 15:16:51 [scrapy.statscollectors] INFO: Dumping Scrapy stats:\n",
      "{'downloader/request_bytes': 365,\n",
      " 'downloader/request_count': 1,\n",
      " 'downloader/request_method_count/GET': 1,\n",
      " 'downloader/response_bytes': 41887,\n",
      " 'downloader/response_count': 1,\n",
      " 'downloader/response_status_count/200': 1,\n",
      " 'finish_reason': 'finished',\n",
      " 'finish_time': datetime.datetime(2020, 1, 17, 20, 16, 51, 174871),\n",
      " 'log_count/DEBUG': 1,\n",
      " 'log_count/INFO': 9,\n",
      " 'memusage/max': 73703424,\n",
      " 'memusage/startup': 73703424,\n",
      " 'response_received_count': 1,\n",
      " 'scheduler/dequeued': 1,\n",
      " 'scheduler/dequeued/memory': 1,\n",
      " 'scheduler/enqueued': 1,\n",
      " 'scheduler/enqueued/memory': 1,\n",
      " 'start_time': datetime.datetime(2020, 1, 17, 20, 16, 48, 767537)}\n",
      "2020-01-17 15:16:51 [scrapy.core.engine] INFO: Spider closed (finished)\n"
     ]
    }
   ],
   "source": [
    "# Start scraper\n",
    "scrape = CrawlerProcess()\n",
    "scrape.crawl(MlsSpider)\n",
    "scrape.start()"
   ]
  },
  {
   "cell_type": "code",
   "execution_count": 8,
   "metadata": {},
   "outputs": [
    {
     "data": {
      "text/plain": [
       "'Team Data.json'"
      ]
     },
  {
   "cell_type": "code",
   "execution_count": null,
   "metadata": {},
   "outputs": [],
   "source": [
    "# Extra Seasons,
    "#  'https://www.mlssoccer.com/stats/team?year=2018&season_type=REG&op=Search&form_build_id=form-fT6I1AO5rTjQ658l5USqDMozv7zc3WNR7WeBuszsI8I&form_id=mp7_stats_hub_build_filter_form',\n",
    "#   'https://www.mlssoccer.com/stats/team?year=2017&season_type=REG&op=Search&form_build_id=form-fT6I1AO5rTjQ658l5USqDMozv7zc3WNR7WeBuszsI8I&form_id=mp7_stats_hub_build_filter_form',\n",
    "#  'https://www.mlssoccer.com/stats/team?year=2016&season_type=REG&op=Search&form_build_id=form-fT6I1AO5rTjQ658l5USqDMozv7zc3WNR7WeBuszsI8I&form_id=mp7_stats_hub_build_filter_form'\n",
    "#   'https://www.mlssoccer.com/stats/team?year=2015&season_type=REG&op=Search&form_build_id=form-fT6I1AO5rTjQ658l5USqDMozv7zc3WNR7WeBuszsI8I&form_id=mp7_stats_hub_build_filter_form\n",
    "#   'https://www.mlssoccer.com/stats/team?year=2014&season_type=REG&op=Search&form_build_id=form-fT6I1AO5rTjQ658l5USqDMozv7zc3WNR7WeBuszsI8I&form_id=mp7_stats_hub_build_filter_form'\n",
    "# Example pipline for jupyter notebook 
    "next_page = response.xpath('') \n",
    "    class Pipeline(object):\n",
    "    def open_spider(self, response):\n",
    "        self.file = open('season.jl', '2019')\n",
    "    def close_spider(self, response):\n",
    "        self.file.close()\n",
    "    def process_item(self, item, response):\n",
    "        line = json.dumps(dict(item))\n",
    "        self.file.write(line)\n",
    "        return item\n",
    "    \n",
    "    custom_settings = {\n",
    "        'ITEM_PIPELINES': {'item.Pipeline'}, \n",
    "        'FEED_FORMAT':'json',                                 \n",
    "        'FEED_URI': 'season.json'                        \n",
    "    }"
   ]
  },
  {
   "cell_type": "code",
   "execution_count": null,
   "metadata": {},
   "outputs": [],
   "source": [
    "# tester\n"
   ]
  },
  {
   "cell_type": "code",
   "execution_count": null,
   "metadata": {},
   "outputs": [],
   "source": []
  }
